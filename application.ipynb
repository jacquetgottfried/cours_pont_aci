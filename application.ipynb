{
 "cells": [
  {
   "cell_type": "code",
   "execution_count": 1,
   "metadata": {},
   "outputs": [],
   "source": [
    "import numpy as np\n",
    "import math\n",
    "from calcul_structure import *"
   ]
  },
  {
   "cell_type": "code",
   "execution_count": 2,
   "metadata": {},
   "outputs": [],
   "source": [
    "## Propriété materiaux [N, m]\n",
    "E = 2*10**8\n",
    "I = 2000*10**(-6)\n",
    "A = 1000*10**(-6)\n",
    "\n",
    "#Element 1\n",
    "L1, L2 = 5, 6 "
   ]
  },
  {
   "cell_type": "code",
   "execution_count": null,
   "metadata": {},
   "outputs": [],
   "source": []
  },
  {
   "cell_type": "code",
   "execution_count": 3,
   "metadata": {},
   "outputs": [],
   "source": [
    "#Matrice de rigidité élémentaire en coordonnées locales\n",
    "mat_elem_local_1 = matrice_elementaire(E, I, A, L1)\n",
    "mat_elem_local_2 = matrice_elementaire(E, I, A, L2)\n",
    "mat_elem_local_3 = matrice_elementaire(E, I, A, L1)"
   ]
  },
  {
   "cell_type": "code",
   "execution_count": 4,
   "metadata": {},
   "outputs": [
    {
     "name": "stdout",
     "output_type": "stream",
     "text": [
      "[[ 0 -1  0  0  0  0]\n",
      " [ 1  0  0  0  0  0]\n",
      " [ 0  0  1  0  0  0]\n",
      " [ 0  0  0  0 -1  0]\n",
      " [ 0  0  0  1  0  0]\n",
      " [ 0  0  0  0  0  1]]\n"
     ]
    }
   ],
   "source": [
    "#Matrice de rotatio\n",
    "rot_elem_1 = rotation_matrice(math.pi/2)\n",
    "rot_elem_2 = rotation_matrice(0)\n",
    "rot_elem_3 = rotation_matrice(3*math.pi/2)\n",
    "print(rot_elem_3.astype(int))"
   ]
  },
  {
   "cell_type": "code",
   "execution_count": 5,
   "metadata": {},
   "outputs": [
    {
     "name": "stdout",
     "output_type": "stream",
     "text": [
      "[[ 38400      0 -96000 -38400      0 -96000]\n",
      " [     0  40000      0      0 -40000      0]\n",
      " [-96000      0 320000  96000      0 160000]\n",
      " [-38400      0  96000  38400      0  96000]\n",
      " [     0 -40000      0      0  40000      0]\n",
      " [-96000      0 160000  96000      0 320000]]\n"
     ]
    }
   ],
   "source": [
    "#Matrice de rigidité élémentaire en coordonnées locales\n",
    "mat_elem_global_1 = np.matmul(np.matmul(np.transpose(rot_elem_1),mat_elem_local_1), rot_elem_1)\n",
    "mat_elem_global_2 = np.matmul(np.matmul(np.transpose(rot_elem_2),mat_elem_local_2), rot_elem_2)\n",
    "mat_elem_global_3 = np.matmul(np.matmul(np.transpose(rot_elem_3),mat_elem_local_3), rot_elem_3)\n",
    "\n",
    "print(mat_elem_global_1.astype(int))"
   ]
  },
  {
   "cell_type": "code",
   "execution_count": 9,
   "metadata": {},
   "outputs": [
    {
     "name": "stdout",
     "output_type": "stream",
     "text": [
      "[[320000  96000      0 160000      0      0      0]\n",
      " [ 96000  71733      0  96000 -33333      0      0]\n",
      " [     0      0  62222  66666      0 -22222  66666]\n",
      " [160000  96000  66666 586666      0 -66666 133333]\n",
      " [     0 -33333      0      0  71733      0  96000]\n",
      " [     0      0 -22222 -66666      0  62222 -66666]\n",
      " [     0      0  66666 133333  96000 -66666 586666]]\n"
     ]
    }
   ],
   "source": [
    "#Assemblag de la matrice de rigidite\n",
    "K_global = np.zeros((7, 7), dtype=np.float32)\n",
    "K_global[0:4, 0:4] = K_global[0:4, 0:4] + mat_elem_global_1[2:6, 2:6]\n",
    "K_global[1:7, 1:7] = K_global[1:7, 1:7] + mat_elem_global_2[0:6, 0:6]\n",
    "K_global[4:7, 4:7] = K_global[4:7, 4:7] + mat_elem_global_3[0:3, 0:3]\n",
    "\n",
    "print(K_global.astype(int))"
   ]
  },
  {
   "cell_type": "code",
   "execution_count": 10,
   "metadata": {},
   "outputs": [
    {
     "name": "stdout",
     "output_type": "stream",
     "text": [
      "[[100.]\n",
      " [  0.]\n",
      " [  0.]\n",
      " [  0.]\n",
      " [  0.]\n",
      " [  0.]]\n"
     ]
    }
   ],
   "source": [
    "#Matrice de force locale\n",
    "P1_local =  np.zeros((6,1), dtype=np.float32)\n",
    "P1_local[0,0] = 100\n",
    "\n",
    "#Matrice de force locale\n",
    "w = 12\n",
    "P2_local = np.array([[0], [-w*L2/2], [-w*L2**2/12],[0],[-w*L2/2], [w*L2**2/12]])\n",
    "\n",
    "print(P1_local)"
   ]
  },
  {
   "cell_type": "code",
   "execution_count": 11,
   "metadata": {},
   "outputs": [
    {
     "name": "stdout",
     "output_type": "stream",
     "text": [
      "[[  0]\n",
      " [100]\n",
      " [-36]\n",
      " [-36]\n",
      " [  0]\n",
      " [-36]\n",
      " [ 36]]\n"
     ]
    }
   ],
   "source": [
    "# Matrice de force global\n",
    "P1_global = np.matmul(np.transpose(rot_elem_1),P1_local)\n",
    "P2_global = np.matmul(np.transpose(rot_elem_2),P2_local)\n",
    "\n",
    "P_global = np.zeros((7,1), dtype=np.float32)\n",
    "P_global[0:6, 0] = P_global[0:6, 0] + P1_global[0:6, 0]\n",
    "P_global[1:7, 0] = P_global[1:7, 0] + P2_global[0:6, 0]\n",
    "print(P_global.astype(int))"
   ]
  },
  {
   "cell_type": "code",
   "execution_count": 12,
   "metadata": {},
   "outputs": [
    {
     "name": "stdout",
     "output_type": "stream",
     "text": [
      "[[-0.00139763]\n",
      " [ 0.00591974]\n",
      " [ 0.00015999]\n",
      " [-0.00075659]\n",
      " [ 0.00353514]\n",
      " [-0.00195999]\n",
      " [-0.00058607]]\n"
     ]
    }
   ],
   "source": [
    "#Calcule des déplacements\n",
    "U = np.linalg.solve(K_global, P_global)\n",
    "print(U)"
   ]
  },
  {
   "cell_type": "markdown",
   "metadata": {},
   "source": [
    "# Autres façons"
   ]
  },
  {
   "cell_type": "code",
   "execution_count": 13,
   "metadata": {},
   "outputs": [
    {
     "name": "stdout",
     "output_type": "stream",
     "text": [
      "Indice \n",
      "[False False  True  True  True  True]\n",
      "res\n",
      "0 0\n",
      "0 1\n",
      "0 2\n",
      "0 3\n",
      "1 0\n",
      "1 1\n",
      "1 2\n",
      "1 3\n",
      "2 0\n",
      "2 1\n",
      "2 2\n",
      "2 3\n",
      "3 0\n",
      "3 1\n",
      "3 2\n",
      "3 3\n",
      "[[320000  96000      0 160000]\n",
      " [ 96000  38400      0  96000]\n",
      " [     0      0  40000      0]\n",
      " [160000  96000      0 320000]]\n"
     ]
    }
   ],
   "source": [
    "LM = np.zeros((6, 3), dtype=int)\n",
    "LM[:,0] = [0, 0, 1, 2, 3, 4]\n",
    "LM[:,1] = [2, 3, 4, 5, 6, 7]\n",
    "LM[:,2] = [5, 6, 7, 0, 0, 0]\n",
    "\n",
    "#selctionner les indices differents de zeros\n",
    "print(\"Indice \")\n",
    "indice = LM[:,0] !=0\n",
    "\n",
    "print(indice)\n",
    "identity_matrix = np.ones((6,6), dtype=bool)\n",
    "\n",
    "res = (indice[ np.newaxis,:] & identity_matrix) & (indice[:, np.newaxis] & identity_matrix)\n",
    "print(\"res\")\n",
    "\n",
    "# print(\"Matrice k1 global\")\n",
    "# print(mat_elem_global_1.astype(int))\n",
    "# print(mat_elem_global_1.shape)\n",
    "# print(\"Sous Matrice k1 global\")\n",
    "\n",
    "sous_mat_elem_1 = list()\n",
    "temp_i = 0\n",
    "temp_j = 0\n",
    "list_array = list()\n",
    "for i in range(6):\n",
    "    tem_j = 0\n",
    "    \n",
    "    for j in range(6):\n",
    "        if res[i,j] == True:\n",
    "            print(temp_i, temp_j)\n",
    "            list_array.append(mat_elem_global_1[i,j])\n",
    "            temp_j +=1 \n",
    "    \n",
    "    if res[i,:].any() == True:\n",
    "        temp_i +=1\n",
    "        temp_j = 0\n",
    "        sous_mat_elem_1.append(np.asarray(list_array))\n",
    "        list_array = list()\n",
    "\n",
    "sous_mat_elem_1 = np.asarray(sous_mat_elem_1)\n",
    "print(sous_mat_elem_1.astype(int))\n",
    "\n",
    "# # addtionnner au composante differentde zeros\n",
    "# K_global = np.zeros((7, 7), dtype=np.float32)\n",
    "\n",
    "# #valeur different de zeros\n",
    "# mask = LM != 0\n",
    "\n",
    "# #LM[:,0][mask[0,:]]\n",
    "# sous_indice =  LM[:,0][mask[:,0]]\n",
    "# sous_indice =  sous_indice - np.ones_like(sous_indice)\n",
    "# indice = list(sous_indice)\n",
    "\n",
    "# temp_i, temp_j = 0, 0\n",
    "# for i in indice:\n",
    "#     for j in indice:\n",
    "#         K_global[i,j] =K_global[i,j] + sous_mat_elem_1[temp_i, temp_j]\n",
    "#         temp_j = temp_j +1\n",
    "#     temp_j = 0\n",
    "#     temp_i = temp_i + 1\n",
    "\n",
    "# K_global\n"
   ]
  },
  {
   "cell_type": "code",
   "execution_count": null,
   "metadata": {},
   "outputs": [],
   "source": [
    "#selctionner les indices differents de zeros\n",
    "indice = LM[:, 1]!=0\n",
    "sous_mat_elem_1 = mat_elem_global_1[indice].astype(int)\n",
    "\n",
    "#valeur different de zeros\n",
    "mask = LM != 0\n",
    "\n",
    "#LM[:,0][mask[0,:]]\n",
    "sous_indice =  LM[:,1][mask[:,1]]\n",
    "sous_indice =  sous_indice - np.ones_like(sous_indice)\n",
    "indice = list(sous_indice)\n",
    "\n",
    "temp_i, temp_j = 0, 0\n",
    "for i in indice:\n",
    "    for j in indice:\n",
    "        K_global[i,j] = K_global[i,j] + sous_mat_elem_1[temp_i, temp_j]\n",
    "        temp_j = temp_j +1\n",
    "    temp_j = 0\n",
    "    temp_i = temp_i + 1\n",
    "\n",
    "K_global"
   ]
  },
  {
   "cell_type": "code",
   "execution_count": 17,
   "metadata": {},
   "outputs": [
    {
     "name": "stdout",
     "output_type": "stream",
     "text": [
      "[[320000  96000      0 160000      0      0      0]\n",
      " [ 96000  71733      0  96000 -33333      0      0]\n",
      " [     0      0  62222  66666      0 -22222  66666]\n",
      " [160000  96000  66666 586666      0 -66666 133333]\n",
      " [     0 -33333      0      0  71733      0  96000]\n",
      " [     0      0 -22222 -66666      0  62222 -66666]\n",
      " [     0      0  66666 133333  96000 -66666 586666]]\n"
     ]
    }
   ],
   "source": [
    "LM = np.zeros((6, 3), dtype=int)\n",
    "LM[:,0] = [0, 0, 1, 2, 3, 4]\n",
    "LM[:,1] = [2, 3, 4, 5, 6, 7]\n",
    "LM[:,2] = [5, 6, 7, 0, 0, 0]\n",
    "\n",
    "# addtionnner au composante differentde zeros\n",
    "K_global_2 = np.zeros((7, 7), dtype=np.float32)\n",
    "\n",
    "K_global_2 = assemblage_matrice_rigidite(LM, 0, K_global_2, mat_elem_global_1)\n",
    "K_global_2 = assemblage_matrice_rigidite(LM, 1, K_global_2, mat_elem_global_2)\n",
    "K_global_2 = assemblage_matrice_rigidite(LM, 2, K_global_2, mat_elem_global_3)\n",
    "\n",
    "print(K_global_2.astype(int))"
   ]
  },
  {
   "cell_type": "code",
   "execution_count": 19,
   "metadata": {},
   "outputs": [
    {
     "name": "stdout",
     "output_type": "stream",
     "text": [
      "[[-0.00139763]\n",
      " [ 0.00591974]\n",
      " [ 0.00015999]\n",
      " [-0.00075659]\n",
      " [ 0.00353514]\n",
      " [-0.00195999]\n",
      " [-0.00058607]]\n"
     ]
    }
   ],
   "source": [
    "U = np.linalg.solve(K_global, P_global)\n",
    "print(U)"
   ]
  }
 ],
 "metadata": {
  "kernelspec": {
   "display_name": "base",
   "language": "python",
   "name": "python3"
  },
  "language_info": {
   "codemirror_mode": {
    "name": "ipython",
    "version": 3
   },
   "file_extension": ".py",
   "mimetype": "text/x-python",
   "name": "python",
   "nbconvert_exporter": "python",
   "pygments_lexer": "ipython3",
   "version": "3.9.12"
  }
 },
 "nbformat": 4,
 "nbformat_minor": 2
}
