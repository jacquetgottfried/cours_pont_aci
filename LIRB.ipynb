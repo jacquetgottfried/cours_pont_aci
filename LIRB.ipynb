{
 "cells": [
  {
   "cell_type": "code",
   "execution_count": 1,
   "metadata": {},
   "outputs": [],
   "source": [
    "import numpy as np\n",
    "import math\n",
    "import matplotlib.pyplot as plt\n",
    "from calcul_structure import *"
   ]
  },
  {
   "cell_type": "code",
   "execution_count": 2,
   "metadata": {},
   "outputs": [],
   "source": [
    "## Propriété materiaux [N, m]\n",
    "E = 1\n",
    "I = 1\n",
    "A = 1\n",
    "\n",
    "#Element 1\n",
    "L=1"
   ]
  },
  {
   "cell_type": "code",
   "execution_count": 3,
   "metadata": {},
   "outputs": [
    {
     "name": "stdout",
     "output_type": "stream",
     "text": [
      "[[  1.   0.   0.  -1.   0.   0.]\n",
      " [  0.  12.   6.   0. -12.   6.]\n",
      " [  0.   6.   4.   0.  -6.   2.]\n",
      " [ -1.   0.   0.   1.   0.   0.]\n",
      " [  0. -12.  -6.   0.  12.  -6.]\n",
      " [  0.   6.   2.   0.  -6.   4.]]\n"
     ]
    }
   ],
   "source": [
    "#Matrice de rigidité élémentaire en coordonnées locales\n",
    "# Discretisation de la poutre en 40 element de longeur 1 m\n",
    "mat_elem_local_1 = matrice_elementaire(E, I, A, L) # Matrice de rigidité Element 1\n",
    "\n",
    "print(mat_elem_local_1)"
   ]
  },
  {
   "cell_type": "code",
   "execution_count": 4,
   "metadata": {},
   "outputs": [],
   "source": [
    "# Coordonnée éléments\n",
    "XY = np.array([\n",
    "     [0, 0], # Appui A\n",
    "     [1, 0],\n",
    "     [2, 0],\n",
    "     [3, 0],\n",
    "     [4, 0],\n",
    "     [5, 0],\n",
    "     [6, 0],\n",
    "     [7, 0],\n",
    "     [8, 0],\n",
    "     [9, 0],\n",
    "     [10,0],\n",
    "     [11, 0],\n",
    "     [12, 0],\n",
    "     [13, 0],\n",
    "     [14, 0],\n",
    "     [15, 0], # Appui B\n",
    "     [16, 0],\n",
    "     [17, 0],\n",
    "     [18, 0],\n",
    "     [19, 0],\n",
    "     [20,0], # Point E\n",
    "     [21,0],\n",
    "     [22,0],\n",
    "     [23,0],\n",
    "     [24,0],\n",
    "     [25,0], # Appui C\n",
    "     [26,0],\n",
    "     [27,0],\n",
    "     [28,0],\n",
    "     [29,0],\n",
    "     [30,0],\n",
    "     [31,0],\n",
    "     [32,0],\n",
    "     [33,0],\n",
    "     [34,0],\n",
    "     [35,0],\n",
    "     [36,0],\n",
    "     [37,0],\n",
    "     [38,0],\n",
    "     [39,0],\n",
    "     [40,0], # Appui D\n",
    "])"
   ]
  },
  {
   "cell_type": "code",
   "execution_count": 5,
   "metadata": {},
   "outputs": [],
   "source": [
    "#Matrice de rotatio\n",
    "rot_elem_1 = rotation_matrice(0) # Rotation Element 1 à 40"
   ]
  },
  {
   "cell_type": "code",
   "execution_count": 6,
   "metadata": {},
   "outputs": [],
   "source": [
    "#Matrice de rigidité élémentaire en coordonnées locales\n",
    "mat_elem_global_1 = np.matmul(np.matmul(np.transpose(rot_elem_1),mat_elem_local_1), rot_elem_1) # Matrice de rigidité Element 1"
   ]
  },
  {
   "cell_type": "code",
   "execution_count": 7,
   "metadata": {},
   "outputs": [
    {
     "name": "stdout",
     "output_type": "stream",
     "text": [
      "[[ 0  0  0  0  0  0  0  0  0  0  0  0  0  0  0  0  0  0  0  0  0  0  0  0\n",
      "   0  0  0  0  0  0  0  0  0  0  0  0  0  0  0  0  0]\n",
      " [ 0  1  2  3  4  5  6  7  8  9 10 11 12 13 14 15 16 17 18 19 20 21 22 23\n",
      "  24  0 25 26 27 28 29 30 31 32 33 34 35 36  0 37 38]\n",
      " [39 40 41 42 43 44 45 46 47 48 49 50 51 52 53 54 55 56 57 58 59 60 61 62\n",
      "  63 64 65 66 67 68 69 70 71 72 73 74 75 76  0 77 78]\n",
      " [ 0  0  0  0  0  0  0  0  0  0  0  0  0  0  0  0  0  0  0  0  0  0  0  0\n",
      "   0  0  0  0  0  0  0  0  0  0  0  0  0  0  0  0  0]\n",
      " [ 1  2  3  4  5  6  7  8  9 10 11 12 13 14 15 16 17 18 19 20 21 22 23 24\n",
      "   0 25 26 27 28 29 30 31 32 33 34 35 36 37  0 38  0]\n",
      " [40 41 42 43 44 45 46 47 48 49 50 51 52 53 54 55 56 57 58 59 60 61 62 64\n",
      "  64 65 66 67 68 69 70 71 72 73 74 75 76 77  0 78 79]]\n"
     ]
    }
   ],
   "source": [
    "# Connection entre élément\n",
    "# Degré de liberte de chaque élément de la forme\n",
    "# LM[:, i] = [Uxi, Uyi, Thetai, Uxj, Uyj, Thetaj]\n",
    "# Travée 1\n",
    "LM = np.zeros((6, 41), dtype=int)\n",
    "LM[:,0] = [0, 0, 39, 0, 1, 40]\n",
    "LM[:,1] = [0, 1, 40, 0, 2, 41]    \n",
    "LM[:,2] = [0, 2, 41, 0, 3, 42]   \n",
    "LM[:,3] = [0, 3, 42, 0, 4, 43]\n",
    "LM[:,4] = [0, 4, 43, 0, 5, 44]   \n",
    "LM[:,5] = [0, 5, 44, 0, 6, 45]\n",
    "LM[:,6] = [0, 6, 45, 0, 7, 46]\n",
    "LM[:,7] = [0, 7, 46, 0, 8, 47]\n",
    "LM[:,8] = [0, 8, 47, 0, 9, 48]\n",
    "LM[:,9] = [0, 9, 48, 0, 10, 49]\n",
    "LM[:,10] = [0, 10, 49, 0, 11, 50]\n",
    "LM[:,11] = [0, 11, 50, 0, 12, 51]\n",
    "LM[:,12] = [0, 12, 51, 0, 13, 52]\n",
    "LM[:,13] = [0, 13, 52, 0, 14, 53]\n",
    "LM[:,14] = [0, 14, 53, 0, 15, 54]\n",
    "\n",
    "#Travée 2\n",
    "LM[:,15] = [0, 15, 54, 0, 16, 55]\n",
    "LM[:,16] = [0, 16, 55, 0, 17, 56]\n",
    "LM[:,17] = [0, 17, 56, 0, 18, 57]\n",
    "LM[:,18] = [0, 18, 57, 0, 19, 58]\n",
    "LM[:,19] = [0, 19, 58, 0, 20, 59]\n",
    "LM[:,20] = [0, 20, 59, 0, 21, 60]\n",
    "LM[:,21] = [0, 21, 60, 0, 22, 61]\n",
    "LM[:,22] = [0, 22, 61, 0, 23, 62]\n",
    "LM[:,23] = [0, 23, 62, 0, 24, 64]\n",
    "LM[:,24] = [0, 24, 63, 0, 0, 64]\n",
    "\n",
    "#Travée 3\n",
    "LM[:,25] = [0, 0, 64, 0, 25, 65]\n",
    "LM[:,26] = [0, 25,65, 0, 26, 66]\n",
    "LM[:,27] = [0, 26,66, 0, 27, 67]\n",
    "LM[:,28] = [0, 27,67, 0, 28, 68]\n",
    "LM[:,29] = [0, 28,68, 0, 29, 69]\n",
    "LM[:,30] = [0, 29,69, 0, 30, 70]\n",
    "LM[:,31] = [0, 30,70, 0, 31, 71]\n",
    "LM[:,32] = [0, 31,71, 0, 32, 72]\n",
    "LM[:,33] = [0, 32,72, 0, 33, 73]\n",
    "LM[:,34] = [0, 33,73, 0, 34, 74]\n",
    "LM[:,35] = [0, 34,74, 0, 35, 75]\n",
    "LM[:,36] = [0, 35,75, 0, 36, 76]\n",
    "LM[:,37] = [0, 36,76, 0, 37, 77]\n",
    "LM[:,39] = [0, 37,77, 0, 38, 78]\n",
    "LM[:,40] = [0, 38,78, 0, 0, 79]\n",
    "\n",
    "print(LM)\n"
   ]
  },
  {
   "cell_type": "code",
   "execution_count": 8,
   "metadata": {},
   "outputs": [
    {
     "name": "stdout",
     "output_type": "stream",
     "text": [
      "(79, 79)\n"
     ]
    },
    {
     "data": {
      "text/plain": [
       "array([[ 6.294795  , 11.809641  , 16.431253  , ...,  0.7918642 ,\n",
       "         0.8253233 ,  0.83647627],\n",
       "       [11.809641  , 22.72592   , 32.02214   , ...,  1.5760776 ,\n",
       "         1.6426724 ,  1.6648707 ],\n",
       "       [16.431253  , 32.02214   , 45.932297  , ...,  2.3449893 ,\n",
       "         2.4440732 ,  2.4771013 ],\n",
       "       ...,\n",
       "       [ 0.7918642 ,  1.5760776 ,  2.3449893 , ...,  2.8139906 ,\n",
       "         2.6948636 ,  2.6551545 ],\n",
       "       [ 0.8253233 ,  1.6426724 ,  2.4440732 , ...,  2.6948636 ,\n",
       "         3.574928  ,  3.5349498 ],\n",
       "       [ 0.83647627,  1.6648707 ,  2.4771013 , ...,  2.6551545 ,\n",
       "         3.5349498 ,  4.4948816 ]], dtype=float32)"
      ]
     },
     "execution_count": 8,
     "metadata": {},
     "output_type": "execute_result"
    }
   ],
   "source": [
    "# Assemblage de la matrice de rigidité\n",
    "K_global_2 = np.zeros((79, 79), dtype=np.float32)\n",
    "\n",
    "for i in range(41):\n",
    "    K_global_2 = assemblage_matrice_rigidite(LM, i, K_global_2, mat_elem_global_1)\n",
    "\n",
    "print(K_global_2.shape)\n",
    "np.linalg.inv(K_global_2)"
   ]
  },
  {
   "cell_type": "code",
   "execution_count": 9,
   "metadata": {},
   "outputs": [
    {
     "name": "stdout",
     "output_type": "stream",
     "text": [
      "[0. 0. 0. 0. 0. 0. 0. 0. 0. 0. 0. 0. 0. 0. 1. 0. 0. 0. 0. 0. 0. 0. 0. 0.\n",
      " 0. 0. 0. 0. 0. 0. 0. 0. 0. 0. 0. 0. 0. 0. 0. 0. 0. 0. 0. 0. 0. 0. 0. 0.\n",
      " 0. 0. 0. 0. 0. 0. 0. 0. 0. 0. 0. 0. 0. 0. 0. 0. 0. 0. 0. 0. 0. 0. 0. 0.\n",
      " 0. 0. 0. 0. 0. 0. 0.]\n",
      "(79,)\n"
     ]
    }
   ],
   "source": [
    "#Vecteur de Force Nodale\n",
    "P_global    = np.zeros(79)\n",
    "P_global[14] = 1\n",
    "print(P_global)\n",
    "print(P_global.shape)"
   ]
  },
  {
   "cell_type": "code",
   "execution_count": 10,
   "metadata": {},
   "outputs": [
    {
     "name": "stdout",
     "output_type": "stream",
     "text": [
      "[ 21.6500898   43.02852011  63.86363147  83.88376437 102.81725934\n",
      " 120.3924569  136.33769756 150.38132184 162.25167026 171.67708333\n",
      " 178.38590158 182.10646552 182.56711566 179.49619253 172.62203664\n",
      " 161.83965517 147.71072198 130.96357759 112.3265625   92.52801724\n",
      "  72.29628233  52.35969828  33.4466056   16.28534483 -14.47395833\n",
      " -25.9533046  -34.65193966 -40.78376437 -44.5626796  -46.20258621\n",
      " -45.91738506 -43.92097701 -40.42726293 -35.65014368 -29.80352011\n",
      " -23.1012931  -15.75736351  -7.98563218  21.69536638  21.55953664\n",
      "  21.15204741  20.47289871  19.52209052  18.29962284  16.80549569\n",
      "  15.03970905  13.00226293  10.69315733   8.11239224   5.25996767\n",
      "   2.13588362  -1.25985991  -4.92726293  -8.86632543 -12.57704741\n",
      " -15.55942888 -17.81346983 -19.33917026 -20.13653017 -20.20554957\n",
      " -19.54622845 -18.15856681 -16.40673491 -16.04256466 -12.94100216\n",
      " -10.05334052  -7.37957974  -4.91971983  -2.67376078  -0.64170259\n",
      "   1.17645474   2.78071121   4.17106681   5.34752155   6.31007543\n",
      "   7.05872845   7.5934806    7.9143319    8.02128233]\n"
     ]
    }
   ],
   "source": [
    "#Solution \n",
    "U = np.linalg.solve(K_global_2, P_global)\n",
    "print(U)"
   ]
  },
  {
   "cell_type": "code",
   "execution_count": 11,
   "metadata": {},
   "outputs": [
    {
     "name": "stdout",
     "output_type": "stream",
     "text": [
      "172.6220366377518\n",
      "(79,)\n"
     ]
    }
   ],
   "source": [
    "# Line d'Influence Muller-Breslaut\n",
    "R1 = U[14]\n",
    "print(R1)\n",
    "\n",
    "LI  = U/R1\n",
    "print(LI.shape)\n"
   ]
  },
  {
   "cell_type": "code",
   "execution_count": 12,
   "metadata": {},
   "outputs": [
    {
     "name": "stdout",
     "output_type": "stream",
     "text": [
      "[ 0.          0.12541904  0.24926435  0.36996222  0.48593891  0.59562071\n",
      "  0.69743388  0.78980471  0.87115947  0.93992444  0.99452588  1.03339009\n",
      "  1.05494333  1.05761187  1.03982201  1.          0.93753763  0.85568868\n",
      "  0.75867242  0.65070813  0.53601509  0.41881259  0.3033199   0.19375629\n",
      "  0.09434105  0.         -0.08384769 -0.15034757 -0.2007388  -0.23626047\n",
      " -0.25815174 -0.26765173 -0.26599956 -0.25443436 -0.23419526 -0.20652139\n",
      " -0.17265189 -0.13382586 -0.09128246 -0.04626079  0.        ]\n"
     ]
    },
    {
     "data": {
      "image/png": "[encoded data removed]",
      "text/plain": [
       "<Figure size 720x576 with 1 Axes>"
      ]
     },
     "metadata": {
      "needs_background": "light"
     },
     "output_type": "display_data"
    }
   ],
   "source": [
    "# Tracée ligne Influence\n",
    "# Create the scatter plot\n",
    "scale_factor = 1\n",
    "x = scale_factor*XY[:, 0]\n",
    "y = np.zeros((41,))\n",
    "# Noeud 0, 1, 2\n",
    "y[0] = 0\n",
    "y[1:15] = LI[0:14]\n",
    "# Noeud 3 : Reaction appui, valeur deplacement vertical 0 \n",
    "y[15] = LI[14]\n",
    "# Noeud 4 : Point E\n",
    "y[16:25] = LI[15:24]\n",
    "# Noeud 5, 6\n",
    "y[25] = 0\n",
    "y[26:40] = LI[24:38]\n",
    "y[40] = 0\n",
    "# Noeud 7 reaction appui 0\n",
    "\n",
    "print(y)\n",
    "\n",
    "plt.figure(figsize=(10,8))\n",
    "plt.plot(x, y, '+--', linewidth=2, markersize=12)\n",
    "# Fill the area above the line with a hashed pattern\n",
    "plt.fill_between(x, y, np.zeros_like(y), where=(y >= 0), facecolor='lightblue', hatch='//')\n",
    "\n",
    "# Fill the area below the line with a different hashed pattern\n",
    "plt.fill_between(x, y, np.zeros_like(y), where=(y <= 0),  facecolor='lightcoral', hatch='\\\\')\n",
    "\n",
    "# Add labels and title\n",
    "plt.xlabel(\"Portée[m]\")\n",
    "plt.ylabel(\"LIRA(x)\")\n",
    "plt.title(\"Line Influence element Reaction A\")\n",
    "\n",
    "# Show the plot\n",
    "plt.show()\n",
    "\n",
    "np.savetxt('./resultats/LIRB_resultats.csv', y, delimiter=',', fmt='%s')"
   ]
  }
 ],
 "metadata": {
  "kernelspec": {
   "display_name": "base",
   "language": "python",
   "name": "python3"
  },
  "language_info": {
   "codemirror_mode": {
    "name": "ipython",
    "version": 3
   },
   "file_extension": ".py",
   "mimetype": "text/x-python",
   "name": "python",
   "nbconvert_exporter": "python",
   "pygments_lexer": "ipython3",
   "version": "3.9.12"
  }
 },
 "nbformat": 4,
 "nbformat_minor": 2
}
