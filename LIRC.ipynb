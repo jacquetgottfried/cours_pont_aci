{
 "cells": [
  {
   "cell_type": "code",
   "execution_count": 1,
   "metadata": {},
   "outputs": [],
   "source": [
    "import numpy as np\n",
    "import math\n",
    "import matplotlib.pyplot as plt\n",
    "from calcul_structure import *"
   ]
  },
  {
   "cell_type": "code",
   "execution_count": 2,
   "metadata": {},
   "outputs": [],
   "source": [
    "## Propriété materiaux [N, m]\n",
    "E = 1\n",
    "I = 1\n",
    "A = 1\n",
    "\n",
    "#Element 1\n",
    "L=1"
   ]
  },
  {
   "cell_type": "code",
   "execution_count": 3,
   "metadata": {},
   "outputs": [
    {
     "name": "stdout",
     "output_type": "stream",
     "text": [
      "[[  1.   0.   0.  -1.   0.   0.]\n",
      " [  0.  12.   6.   0. -12.   6.]\n",
      " [  0.   6.   4.   0.  -6.   2.]\n",
      " [ -1.   0.   0.   1.   0.   0.]\n",
      " [  0. -12.  -6.   0.  12.  -6.]\n",
      " [  0.   6.   2.   0.  -6.   4.]]\n"
     ]
    }
   ],
   "source": [
    "#Matrice de rigidité élémentaire en coordonnées locales\n",
    "# Discretisation de la poutre en 40 element de longeur 1 m\n",
    "mat_elem_local_1 = matrice_elementaire(E, I, A, L) # Matrice de rigidité Element 1\n",
    "\n",
    "print(mat_elem_local_1)"
   ]
  },
  {
   "cell_type": "code",
   "execution_count": 4,
   "metadata": {},
   "outputs": [],
   "source": [
    "# Coordonnée éléments\n",
    "XY = np.array([\n",
    "     [0, 0], # Appui A\n",
    "     [1, 0],\n",
    "     [2, 0],\n",
    "     [3, 0],\n",
    "     [4, 0],\n",
    "     [5, 0],\n",
    "     [6, 0],\n",
    "     [7, 0],\n",
    "     [8, 0],\n",
    "     [9, 0],\n",
    "     [10,0],\n",
    "     [11, 0],\n",
    "     [12, 0],\n",
    "     [13, 0],\n",
    "     [14, 0],\n",
    "     [15, 0], # Appui B\n",
    "     [16, 0],\n",
    "     [17, 0],\n",
    "     [18, 0],\n",
    "     [19, 0],\n",
    "     [20,0], # Point E\n",
    "     [21,0],\n",
    "     [22,0],\n",
    "     [23,0],\n",
    "     [24,0],\n",
    "     [25,0], # Appui C\n",
    "     [26,0],\n",
    "     [27,0],\n",
    "     [28,0],\n",
    "     [29,0],\n",
    "     [30,0],\n",
    "     [31,0],\n",
    "     [32,0],\n",
    "     [33,0],\n",
    "     [34,0],\n",
    "     [35,0],\n",
    "     [36,0],\n",
    "     [37,0],\n",
    "     [38,0],\n",
    "     [39,0],\n",
    "     [40,0], # Appui D\n",
    "])"
   ]
  },
  {
   "cell_type": "code",
   "execution_count": 5,
   "metadata": {},
   "outputs": [],
   "source": [
    "#Matrice de rotatio\n",
    "rot_elem_1 = rotation_matrice(0) # Rotation Element 1 à 40"
   ]
  },
  {
   "cell_type": "code",
   "execution_count": 6,
   "metadata": {},
   "outputs": [],
   "source": [
    "#Matrice de rigidité élémentaire en coordonnées locales\n",
    "mat_elem_global_1 = np.matmul(np.matmul(np.transpose(rot_elem_1),mat_elem_local_1), rot_elem_1) # Matrice de rigidité Element 1"
   ]
  },
  {
   "cell_type": "code",
   "execution_count": 7,
   "metadata": {},
   "outputs": [
    {
     "name": "stdout",
     "output_type": "stream",
     "text": [
      "[[ 0  0  0  0  0  0  0  0  0  0  0  0  0  0  0  0  0  0  0  0  0  0  0  0\n",
      "   0  0  0  0  0  0  0  0  0  0  0  0  0  0  0  0  0]\n",
      " [ 0  1  2  3  4  5  6  7  8  9 10 11 12 13 14  0 15 16 17 18 19 20 21 22\n",
      "  23 24 25 26 27 28 29 30 31 32 33 34 35 36  0 37 38]\n",
      " [39 40 41 42 43 44 45 46 47 48 49 50 51 52 53 54 55 56 57 58 59 60 61 62\n",
      "  63 64 65 66 67 68 69 70 71 72 73 74 75 76  0 77 78]\n",
      " [ 0  0  0  0  0  0  0  0  0  0  0  0  0  0  0  0  0  0  0  0  0  0  0  0\n",
      "   0  0  0  0  0  0  0  0  0  0  0  0  0  0  0  0  0]\n",
      " [ 1  2  3  4  5  6  7  8  9 10 11 12 13 14  0 15 16 17 18 19 20 21 22 23\n",
      "  24 25 26 27 28 29 30 31 32 33 34 35 36 37  0 38  0]\n",
      " [40 41 42 43 44 45 46 47 48 49 50 51 52 53 54 55 56 57 58 59 60 61 62 64\n",
      "  64 65 66 67 68 69 70 71 72 73 74 75 76 77  0 78 79]]\n"
     ]
    }
   ],
   "source": [
    "# Connection entre élément\n",
    "# Degré de liberte de chaque élément de la forme\n",
    "# LM[:, i] = [Uxi, Uyi, Thetai, Uxj, Uyj, Thetaj]\n",
    "# Travée 1\n",
    "LM = np.zeros((6, 41), dtype=int)\n",
    "LM[:,0] = [0, 0, 39, 0, 1, 40]\n",
    "LM[:,1] = [0, 1, 40, 0, 2, 41]    \n",
    "LM[:,2] = [0, 2, 41, 0, 3, 42]   \n",
    "LM[:,3] = [0, 3, 42, 0, 4, 43]\n",
    "LM[:,4] = [0, 4, 43, 0, 5, 44]   \n",
    "LM[:,5] = [0, 5, 44, 0, 6, 45]\n",
    "LM[:,6] = [0, 6, 45, 0, 7, 46]\n",
    "LM[:,7] = [0, 7, 46, 0, 8, 47]\n",
    "LM[:,8] = [0, 8, 47, 0, 9, 48]\n",
    "LM[:,9] = [0, 9, 48, 0, 10, 49]\n",
    "LM[:,10] = [0, 10, 49, 0, 11, 50]\n",
    "LM[:,11] = [0, 11, 50, 0, 12, 51]\n",
    "LM[:,12] = [0, 12, 51, 0, 13, 52]\n",
    "LM[:,13] = [0, 13, 52, 0, 14, 53]\n",
    "LM[:,14] = [0, 14, 53, 0, 0, 54]\n",
    "\n",
    "#Travée 2\n",
    "LM[:,15] = [0, 0, 54, 0, 15, 55]\n",
    "LM[:,16] = [0, 15, 55, 0, 16, 56]\n",
    "LM[:,17] = [0, 16, 56, 0, 17, 57]\n",
    "LM[:,18] = [0, 17, 57, 0, 18, 58]\n",
    "LM[:,19] = [0, 18, 58, 0, 19, 59]\n",
    "LM[:,20] = [0, 19, 59, 0, 20, 60]\n",
    "LM[:,21] = [0, 20, 60, 0, 21, 61]\n",
    "LM[:,22] = [0, 21, 61, 0, 22, 62]\n",
    "LM[:,23] = [0, 22, 62, 0, 23, 64]\n",
    "LM[:,24] = [0, 23, 63, 0, 24, 64]\n",
    "\n",
    "#Travée 3\n",
    "LM[:,25] = [0, 24, 64, 0, 25, 65]\n",
    "LM[:,26] = [0, 25,65, 0, 26, 66]\n",
    "LM[:,27] = [0, 26,66, 0, 27, 67]\n",
    "LM[:,28] = [0, 27,67, 0, 28, 68]\n",
    "LM[:,29] = [0, 28,68, 0, 29, 69]\n",
    "LM[:,30] = [0, 29,69, 0, 30, 70]\n",
    "LM[:,31] = [0, 30,70, 0, 31, 71]\n",
    "LM[:,32] = [0, 31,71, 0, 32, 72]\n",
    "LM[:,33] = [0, 32,72, 0, 33, 73]\n",
    "LM[:,34] = [0, 33,73, 0, 34, 74]\n",
    "LM[:,35] = [0, 34,74, 0, 35, 75]\n",
    "LM[:,36] = [0, 35,75, 0, 36, 76]\n",
    "LM[:,37] = [0, 36,76, 0, 37, 77]\n",
    "LM[:,39] = [0, 37,77, 0, 38, 78]\n",
    "LM[:,40] = [0, 38,78, 0, 0, 79]\n",
    "\n",
    "print(LM)\n"
   ]
  },
  {
   "cell_type": "code",
   "execution_count": 8,
   "metadata": {},
   "outputs": [
    {
     "name": "stdout",
     "output_type": "stream",
     "text": [
      "(79, 79)\n"
     ]
    },
    {
     "data": {
      "text/plain": [
       "array([[ 3.8771858 ,  7.000519  ,  9.282812  , ...,  0.74010617,\n",
       "         0.7516383 ,  0.7554823 ],\n",
       "       [ 7.000519  , 13.159655  , 17.80269   , ...,  1.4603881 ,\n",
       "         1.4831434 ,  1.4907285 ],\n",
       "       [ 9.282812  , 17.80269   , 24.796705  , ...,  2.1410215 ,\n",
       "         2.1743822 ,  2.1855025 ],\n",
       "       ...,\n",
       "       [ 0.74010617,  1.4603881 ,  2.1410215 , ...,  5.204283  ,\n",
       "         5.1264415 ,  5.1004944 ],\n",
       "       [ 0.7516383 ,  1.4831434 ,  2.1743822 , ...,  5.1264415 ,\n",
       "         6.0483217 ,  6.0222816 ],\n",
       "       [ 0.7554823 ,  1.4907285 ,  2.1855025 , ...,  5.1004944 ,\n",
       "         6.0222816 ,  6.996211  ]], dtype=float32)"
      ]
     },
     "execution_count": 8,
     "metadata": {},
     "output_type": "execute_result"
    }
   ],
   "source": [
    "# Assemblage de la matrice de rigidité\n",
    "K_global_2 = np.zeros((79, 79), dtype=np.float32)\n",
    "\n",
    "for i in range(41):\n",
    "    K_global_2 = assemblage_matrice_rigidite(LM, i, K_global_2, mat_elem_global_1)\n",
    "\n",
    "print(K_global_2.shape)\n",
    "np.linalg.inv(K_global_2)"
   ]
  },
  {
   "cell_type": "code",
   "execution_count": 9,
   "metadata": {},
   "outputs": [
    {
     "name": "stdout",
     "output_type": "stream",
     "text": [
      "[0. 0. 0. 0. 0. 0. 0. 0. 0. 0. 0. 0. 0. 0. 0. 0. 0. 0. 0. 0. 0. 0. 0. 0.\n",
      " 1. 0. 0. 0. 0. 0. 0. 0. 0. 0. 0. 0. 0. 0. 0. 0. 0. 0. 0. 0. 0. 0. 0. 0.\n",
      " 0. 0. 0. 0. 0. 0. 0. 0. 0. 0. 0. 0. 0. 0. 0. 0. 0. 0. 0. 0. 0. 0. 0. 0.\n",
      " 0. 0. 0. 0. 0. 0. 0.]\n",
      "(79,)\n"
     ]
    }
   ],
   "source": [
    "#Vecteur de Force Nodale\n",
    "P_global    = np.zeros(79)\n",
    "P_global[24] = 1\n",
    "print(P_global)\n",
    "print(P_global.shape)"
   ]
  },
  {
   "cell_type": "code",
   "execution_count": 10,
   "metadata": {},
   "outputs": [
    {
     "name": "stdout",
     "output_type": "stream",
     "text": [
      "[ -7.06073586 -13.93234487 -20.42570016 -26.3516749  -31.52114223\n",
      " -35.74497529 -38.83404723 -40.59923119 -40.85140033 -39.40142779\n",
      " -36.06018671 -30.63855025 -22.94739154 -12.79758375  15.49071938\n",
      "  33.14486546  52.28896211  72.24953322  92.35310269 111.9261944\n",
      " 130.29533223 146.78704009 160.72784184 173.39319055 183.77287205\n",
      " 189.74788578 191.47808896 189.29000549 183.51015925 174.46507413\n",
      " 162.48127403 147.88528281 131.00362438 112.16282262  91.68940143\n",
      "  69.90988468  47.15079627  23.73866008  -7.092257    -6.99769357\n",
      "  -6.71400329  -6.24118616  -5.57924217  -4.72817133  -3.68797364\n",
      "  -2.45864909  -1.04019769   0.56738056   2.36408567   4.34991763\n",
      "   6.52487644   8.88896211  11.44217463  14.184514    16.68467875\n",
      "  18.51136738  19.6645799   20.14431631  19.95057661  19.08336079\n",
      "  17.54266886  15.32850082  12.77759473  12.44085667   8.2062603\n",
      "   3.79818781  -0.28336079  -4.0383855   -7.46688633 -10.56886326\n",
      " -13.34431631 -15.79324547 -17.91565074 -19.71153213 -21.18088962\n",
      " -22.32372323 -23.14003295 -23.62981878 -23.79308072]\n"
     ]
    }
   ],
   "source": [
    "#Solution \n",
    "U = np.linalg.solve(K_global_2, P_global)\n",
    "print(U)"
   ]
  },
  {
   "cell_type": "code",
   "execution_count": 11,
   "metadata": {},
   "outputs": [
    {
     "name": "stdout",
     "output_type": "stream",
     "text": [
      "183.77287204814115\n",
      "(79,)\n"
     ]
    }
   ],
   "source": [
    "# Line d'Influence Muller-Breslaut\n",
    "R1 = U[24]\n",
    "print(R1)\n",
    "\n",
    "LI  = U/R1\n",
    "print(LI.shape)\n"
   ]
  },
  {
   "cell_type": "code",
   "execution_count": 13,
   "metadata": {},
   "outputs": [
    {
     "name": "stdout",
     "output_type": "stream",
     "text": [
      "[ 0.         -0.03842099 -0.07581285 -0.11114644 -0.14339263 -0.17152228\n",
      " -0.19450627 -0.21131545 -0.2209207  -0.22229288 -0.21440285 -0.19622149\n",
      " -0.16671966 -0.12486822 -0.06963805  0.          0.08429274  0.18035777\n",
      "  0.28453036  0.3931458   0.50253937  0.60904634  0.70900199  0.79874161\n",
      "  0.87460048  0.94351897  1.          1.03251303  1.04192793  1.03002148\n",
      "  0.99857045  0.94935162  0.88414178  0.8047177   0.71285616  0.61033395\n",
      "  0.49892784  0.38041461  0.25657104  0.12917391  0.        ]\n"
     ]
    },
    {
     "data": {
      "image/png": "[encoded data removed]",
      "text/plain": [
       "<Figure size 720x576 with 1 Axes>"
      ]
     },
     "metadata": {
      "needs_background": "light"
     },
     "output_type": "display_data"
    }
   ],
   "source": [
    "# Tracée ligne Influence\n",
    "# Create the scatter plot\n",
    "scale_factor = 1\n",
    "x = scale_factor*XY[:, 0]\n",
    "y = np.zeros((41,))\n",
    "# Noeud 0, 1, 2\n",
    "y[0] = 0\n",
    "y[1:15] = LI[0:14]\n",
    "# Noeud 3 : Reaction appui, valeur deplacement vertical 0 \n",
    "y[15] = 0\n",
    "# Noeud 4 : Point E\n",
    "y[16:26] = LI[14:24]\n",
    "# Noeud 5, 6\n",
    "y[26] = LI[24]\n",
    "y[27:40] = LI[25:38]\n",
    "y[40] = 0\n",
    "# Noeud 7 reaction appui 0\n",
    "\n",
    "print(y)\n",
    "\n",
    "plt.figure(figsize=(10,8))\n",
    "plt.plot(x, y, '+--', linewidth=2, markersize=12)\n",
    "# Fill the area above the line with a hashed pattern\n",
    "plt.fill_between(x, y, np.zeros_like(y), where=(y >= 0), facecolor='lightblue', hatch='//')\n",
    "\n",
    "# Fill the area below the line with a different hashed pattern\n",
    "plt.fill_between(x, y, np.zeros_like(y), where=(y <= 0),  facecolor='lightcoral', hatch='\\\\')\n",
    "\n",
    "# Add labels and title\n",
    "plt.xlabel(\"Portée[m]\")\n",
    "plt.ylabel(\"LIRA(x)\")\n",
    "plt.title(\"Line Influence element Reaction C\")\n",
    "\n",
    "# Show the plot\n",
    "plt.show()\n",
    "\n",
    "np.savetxt('./resultats/LIRC_resultats.csv', y, delimiter=',', fmt='%s')"
   ]
  }
 ],
 "metadata": {
  "kernelspec": {
   "display_name": "base",
   "language": "python",
   "name": "python3"
  },
  "language_info": {
   "codemirror_mode": {
    "name": "ipython",
    "version": 3
   },
   "file_extension": ".py",
   "mimetype": "text/x-python",
   "name": "python",
   "nbconvert_exporter": "python",
   "pygments_lexer": "ipython3",
   "version": "3.9.12"
  }
 },
 "nbformat": 4,
 "nbformat_minor": 2
}
